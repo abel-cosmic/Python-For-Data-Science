{
 "cells": [
  {
   "cell_type": "markdown",
   "id": "4d4c1c9e",
   "metadata": {},
   "source": [
    "# 0. Variables"
   ]
  },
  {
   "cell_type": "markdown",
   "id": "9298cbf5",
   "metadata": {},
   "source": [
    "##### In Python, variables are used to store and manage data values. They provide a way to give a name or identifier to a piece of data, making it easier to refer to and manipulate that data throughout your program. Variables allow you to store various types of data, such as numbers, strings, lists, and more."
   ]
  },
  {
   "cell_type": "code",
   "execution_count": 78,
   "id": "0d1e46aa",
   "metadata": {},
   "outputs": [],
   "source": [
    "space_name = \"Astronaut Abel\""
   ]
  },
  {
   "cell_type": "code",
   "execution_count": 79,
   "id": "6a8e7d57",
   "metadata": {},
   "outputs": [
    {
     "name": "stdout",
     "output_type": "stream",
     "text": [
      "Astronaut Abel\n"
     ]
    }
   ],
   "source": [
    "print(space_name)"
   ]
  },
  {
   "cell_type": "markdown",
   "id": "184355a7",
   "metadata": {},
   "source": [
    "This is how you assign a variable in python and call it using the print function."
   ]
  },
  {
   "cell_type": "code",
   "execution_count": 80,
   "id": "009ed0b9",
   "metadata": {},
   "outputs": [
    {
     "data": {
      "text/plain": [
       "str"
      ]
     },
     "execution_count": 80,
     "metadata": {},
     "output_type": "execute_result"
    }
   ],
   "source": [
    "type(space_name)"
   ]
  },
  {
   "cell_type": "code",
   "execution_count": 81,
   "id": "d66a47d0",
   "metadata": {},
   "outputs": [],
   "source": [
    "space_name = 123456"
   ]
  },
  {
   "cell_type": "markdown",
   "id": "173b9a40",
   "metadata": {},
   "source": [
    "here we reassign the same variable."
   ]
  },
  {
   "cell_type": "code",
   "execution_count": 82,
   "id": "452f4b76",
   "metadata": {},
   "outputs": [
    {
     "data": {
      "text/plain": [
       "int"
      ]
     },
     "execution_count": 82,
     "metadata": {},
     "output_type": "execute_result"
    }
   ],
   "source": [
    "type(space_name)"
   ]
  },
  {
   "cell_type": "markdown",
   "id": "3272cb61",
   "metadata": {},
   "source": [
    "# 1. Data Types"
   ]
  },
  {
   "cell_type": "code",
   "execution_count": 83,
   "id": "84e5c5bf",
   "metadata": {},
   "outputs": [
    {
     "name": "stdout",
     "output_type": "stream",
     "text": [
      "pluto\n"
     ]
    }
   ],
   "source": [
    "# This is declaring a variable as a string\n",
    "string_variable = 'pluto'\n",
    "print(string_variable)"
   ]
  },
  {
   "cell_type": "code",
   "execution_count": 84,
   "id": "15f3e0c1",
   "metadata": {},
   "outputs": [
    {
     "data": {
      "text/plain": [
       "str"
      ]
     },
     "execution_count": 84,
     "metadata": {},
     "output_type": "execute_result"
    }
   ],
   "source": [
    "type(string_variable)"
   ]
  },
  {
   "cell_type": "code",
   "execution_count": 85,
   "id": "5b3bd671",
   "metadata": {},
   "outputs": [
    {
     "name": "stdout",
     "output_type": "stream",
     "text": [
      "1234\n"
     ]
    }
   ],
   "source": [
    "# This is declaring a variable as a integer\n",
    "integer_variable = 1234\n",
    "print(integer_variable)"
   ]
  },
  {
   "cell_type": "code",
   "execution_count": 86,
   "id": "904ee7c4",
   "metadata": {},
   "outputs": [
    {
     "data": {
      "text/plain": [
       "int"
      ]
     },
     "execution_count": 86,
     "metadata": {},
     "output_type": "execute_result"
    }
   ],
   "source": [
    "type(integer_variable)"
   ]
  },
  {
   "cell_type": "code",
   "execution_count": 87,
   "id": "dde11699",
   "metadata": {},
   "outputs": [
    {
     "name": "stdout",
     "output_type": "stream",
     "text": [
      "1234.45\n"
     ]
    }
   ],
   "source": [
    "# This is declaring a variable as a float\n",
    "float_variable = 1234.45\n",
    "print(float_variable)"
   ]
  },
  {
   "cell_type": "code",
   "execution_count": 88,
   "id": "5f108aa9",
   "metadata": {},
   "outputs": [
    {
     "data": {
      "text/plain": [
       "float"
      ]
     },
     "execution_count": 88,
     "metadata": {},
     "output_type": "execute_result"
    }
   ],
   "source": [
    "type(float_variable)"
   ]
  },
  {
   "cell_type": "code",
   "execution_count": 89,
   "id": "3b875824",
   "metadata": {},
   "outputs": [
    {
     "name": "stdout",
     "output_type": "stream",
     "text": [
      "False\n"
     ]
    }
   ],
   "source": [
    "# This is declaring a variable as a boolean \n",
    "bool_variable = False\n",
    "print(bool_variable)"
   ]
  },
  {
   "cell_type": "code",
   "execution_count": 90,
   "id": "25991e8c",
   "metadata": {},
   "outputs": [
    {
     "data": {
      "text/plain": [
       "bool"
      ]
     },
     "execution_count": 90,
     "metadata": {},
     "output_type": "execute_result"
    }
   ],
   "source": [
    "type(bool_variable)"
   ]
  },
  {
   "cell_type": "code",
   "execution_count": 91,
   "id": "a811b2d7",
   "metadata": {},
   "outputs": [
    {
     "data": {
      "text/plain": [
       "'False'"
      ]
     },
     "execution_count": 91,
     "metadata": {},
     "output_type": "execute_result"
    }
   ],
   "source": [
    "str(bool_variable)"
   ]
  },
  {
   "cell_type": "markdown",
   "id": "fdc8e3e3",
   "metadata": {},
   "source": [
    "this are the type casting functions"
   ]
  },
  {
   "cell_type": "code",
   "execution_count": 92,
   "id": "db9e6537",
   "metadata": {},
   "outputs": [
    {
     "data": {
      "text/plain": [
       "False"
      ]
     },
     "execution_count": 92,
     "metadata": {},
     "output_type": "execute_result"
    }
   ],
   "source": [
    "bool(bool_variable)"
   ]
  },
  {
   "cell_type": "code",
   "execution_count": 93,
   "id": "85969e87",
   "metadata": {},
   "outputs": [
    {
     "name": "stdout",
     "output_type": "stream",
     "text": [
      "[1, 2, 3, 4]\n"
     ]
    }
   ],
   "source": [
    "# This is declaring a variable as a list \n",
    "list_variable = [1,2,3,4]\n",
    "print(list_variable)"
   ]
  },
  {
   "cell_type": "code",
   "execution_count": 94,
   "id": "6bd33458",
   "metadata": {},
   "outputs": [
    {
     "name": "stdout",
     "output_type": "stream",
     "text": [
      "1\n"
     ]
    }
   ],
   "source": [
    "print(list_variable[0])"
   ]
  },
  {
   "cell_type": "code",
   "execution_count": 95,
   "id": "cbd299dc",
   "metadata": {},
   "outputs": [
    {
     "data": {
      "text/plain": [
       "list"
      ]
     },
     "execution_count": 95,
     "metadata": {},
     "output_type": "execute_result"
    }
   ],
   "source": [
    "type(list_variable)"
   ]
  },
  {
   "cell_type": "code",
   "execution_count": 96,
   "id": "29b3b476",
   "metadata": {},
   "outputs": [
    {
     "name": "stdout",
     "output_type": "stream",
     "text": [
      "(1, 2, 3, 4)\n"
     ]
    },
    {
     "data": {
      "text/plain": [
       "tuple"
      ]
     },
     "execution_count": 96,
     "metadata": {},
     "output_type": "execute_result"
    }
   ],
   "source": [
    "\"\"\"\n",
    "This is declaring a variable as a tuple and are immutable(un assignable)\n",
    "\"\"\"\n",
    "tuple_variable = (1,2,3,4)\n",
    "print(tuple_variable)\n",
    "type(tuple_variable)"
   ]
  },
  {
   "cell_type": "code",
   "execution_count": 97,
   "id": "ca2ae240",
   "metadata": {},
   "outputs": [
    {
     "name": "stdout",
     "output_type": "stream",
     "text": [
      "3\n"
     ]
    }
   ],
   "source": [
    "print(tuple_variable[2])"
   ]
  },
  {
   "cell_type": "code",
   "execution_count": 98,
   "id": "ecd28e60",
   "metadata": {},
   "outputs": [],
   "source": [
    "#tuple_variable[2]= 3"
   ]
  },
  {
   "cell_type": "markdown",
   "id": "f53408d6",
   "metadata": {},
   "source": [
    "---------------------------------------------------------------------------\n",
    "TypeError                                 Traceback (most recent call last)\n",
    "Cell In[55], line 1\n",
    "----> 1 tuple_variable[2]= 3\n",
    "\n",
    "TypeError: 'tuple' object does not support item assignment\n"
   ]
  },
  {
   "cell_type": "code",
   "execution_count": 99,
   "id": "65626574",
   "metadata": {},
   "outputs": [
    {
     "name": "stdout",
     "output_type": "stream",
     "text": [
      "{1, 2, 3, 4}\n"
     ]
    },
    {
     "data": {
      "text/plain": [
       "set"
      ]
     },
     "execution_count": 99,
     "metadata": {},
     "output_type": "execute_result"
    }
   ],
   "source": [
    "\"\"\"\n",
    "This is declaring a variable as a set and are immutable(un assignable)\n",
    "and it can not have duplicates \n",
    "\"\"\"\n",
    "set_variable = {1,2,3,4}\n",
    "print(set_variable)\n",
    "type(set_variable)"
   ]
  },
  {
   "cell_type": "code",
   "execution_count": 100,
   "id": "8bea6b00",
   "metadata": {},
   "outputs": [],
   "source": [
    "#set_variable[2] = 2"
   ]
  },
  {
   "cell_type": "markdown",
   "id": "c79e5238",
   "metadata": {},
   "source": [
    "---------------------------------------------------------------------------\n",
    "TypeError                                 Traceback (most recent call last)\n",
    "Cell In[60], line 1\n",
    "----> 1 set_variable[2] = 2\n",
    "\n",
    "TypeError: 'set' object does not support item assignment\n",
    "\n"
   ]
  },
  {
   "cell_type": "code",
   "execution_count": 101,
   "id": "d7099f7c",
   "metadata": {},
   "outputs": [
    {
     "name": "stdout",
     "output_type": "stream",
     "text": [
      "[1, 2, 3, 4, 5, 5, 2, 1]\n",
      "[1, 2, 3, 4, 5]\n"
     ]
    }
   ],
   "source": [
    "#typecasting lists to set to remove duplicates\n",
    "\n",
    "lists = [1,2,3,4,5,5,2,1]\n",
    "print(lists)\n",
    "\n",
    "#we use set to type cast to list\n",
    "\n",
    "print(list(set(lists)))"
   ]
  },
  {
   "cell_type": "code",
   "execution_count": 102,
   "id": "f96e2cf2",
   "metadata": {},
   "outputs": [
    {
     "name": "stdout",
     "output_type": "stream",
     "text": [
      "{'name': 'Shibabaw', 'favorite_color': 'red', 'favorite_number': 20}\n"
     ]
    }
   ],
   "source": [
    "# This is declaring a dictionary variable\n",
    "dict_variable = {\n",
    "    'name':\"Shibabaw\",\n",
    "    'favorite_color':\"red\",\n",
    "    'favorite_number':20\n",
    "}\n",
    "print(dict_variable)"
   ]
  },
  {
   "cell_type": "code",
   "execution_count": 103,
   "id": "ae928933",
   "metadata": {},
   "outputs": [
    {
     "name": "stdout",
     "output_type": "stream",
     "text": [
      "Shibabaw\n"
     ]
    }
   ],
   "source": [
    "print(dict_variable['name'])"
   ]
  },
  {
   "cell_type": "markdown",
   "id": "1b6ba671",
   "metadata": {},
   "source": [
    "# 2. Lists"
   ]
  },
  {
   "cell_type": "code",
   "execution_count": 104,
   "id": "b9d2b90c",
   "metadata": {},
   "outputs": [],
   "source": [
    "# create\n",
    "names = ['neil armstrong','buzz aldrin', 'sally ride','yuri gagarin','elon mask']"
   ]
  },
  {
   "cell_type": "code",
   "execution_count": 105,
   "id": "43c264d1",
   "metadata": {},
   "outputs": [
    {
     "data": {
      "text/plain": [
       "['neil armstrong', 'buzz aldrin', 'sally ride', 'yuri gagarin', 'elon mask']"
      ]
     },
     "execution_count": 105,
     "metadata": {},
     "output_type": "execute_result"
    }
   ],
   "source": [
    "# read\n",
    "names"
   ]
  },
  {
   "cell_type": "code",
   "execution_count": 106,
   "id": "93d9953c",
   "metadata": {},
   "outputs": [
    {
     "data": {
      "text/plain": [
       "'neil armstrong'"
      ]
     },
     "execution_count": 106,
     "metadata": {},
     "output_type": "execute_result"
    }
   ],
   "source": [
    "# reading using indexing\n",
    "names[0]"
   ]
  },
  {
   "cell_type": "code",
   "execution_count": 107,
   "id": "c97ea55f",
   "metadata": {},
   "outputs": [
    {
     "data": {
      "text/plain": [
       "'elon mask'"
      ]
     },
     "execution_count": 107,
     "metadata": {},
     "output_type": "execute_result"
    }
   ],
   "source": [
    "names[-1]"
   ]
  },
  {
   "cell_type": "code",
   "execution_count": 108,
   "id": "99d899bf",
   "metadata": {},
   "outputs": [
    {
     "data": {
      "text/plain": [
       "5"
      ]
     },
     "execution_count": 108,
     "metadata": {},
     "output_type": "execute_result"
    }
   ],
   "source": [
    "len(names)"
   ]
  },
  {
   "cell_type": "code",
   "execution_count": 109,
   "id": "fa5e7b08",
   "metadata": {},
   "outputs": [
    {
     "data": {
      "text/plain": [
       "['neil armstrong',\n",
       " 'buzz aldrin',\n",
       " 'sally ride',\n",
       " 'yuri gagarin',\n",
       " 'abel shibabaw']"
      ]
     },
     "execution_count": 109,
     "metadata": {},
     "output_type": "execute_result"
    }
   ],
   "source": [
    "# update\n",
    "\n",
    "names[-1] = 'abel shibabaw'\n",
    "names"
   ]
  },
  {
   "cell_type": "code",
   "execution_count": 110,
   "id": "17c2fc43",
   "metadata": {},
   "outputs": [],
   "source": [
    "# it adds at the end\n",
    "names.append('elon mask')"
   ]
  },
  {
   "cell_type": "code",
   "execution_count": 111,
   "id": "f1586ff9",
   "metadata": {},
   "outputs": [
    {
     "data": {
      "text/plain": [
       "['neil armstrong',\n",
       " 'buzz aldrin',\n",
       " 'sally ride',\n",
       " 'yuri gagarin',\n",
       " 'abel shibabaw',\n",
       " 'elon mask']"
      ]
     },
     "execution_count": 111,
     "metadata": {},
     "output_type": "execute_result"
    }
   ],
   "source": [
    "names"
   ]
  },
  {
   "cell_type": "code",
   "execution_count": 112,
   "id": "5aad82c5",
   "metadata": {},
   "outputs": [],
   "source": [
    "names.insert(0,'abebe bekilla')"
   ]
  },
  {
   "cell_type": "code",
   "execution_count": 113,
   "id": "a98624d9",
   "metadata": {},
   "outputs": [],
   "source": [
    "names.remove('abebe bekilla')"
   ]
  },
  {
   "cell_type": "code",
   "execution_count": 114,
   "id": "79264a9b",
   "metadata": {},
   "outputs": [],
   "source": [
    "# delete\n",
    "\n",
    "del names[4]"
   ]
  },
  {
   "cell_type": "markdown",
   "id": "2f9613dc",
   "metadata": {},
   "source": [
    "# 3. Dictionaries"
   ]
  },
  {
   "cell_type": "code",
   "execution_count": 115,
   "id": "5a4ece22",
   "metadata": {},
   "outputs": [],
   "source": [
    "# create \n",
    "astronaut = {\n",
    "    \"name\":\"elon mask\",\n",
    "    \"suit_size\":\"large\",\n",
    "    \"allergies\":\"peanuts\"\n",
    "}"
   ]
  },
  {
   "cell_type": "code",
   "execution_count": 116,
   "id": "7719661a",
   "metadata": {},
   "outputs": [],
   "source": [
    "# read"
   ]
  },
  {
   "cell_type": "code",
   "execution_count": 117,
   "id": "07136ab5",
   "metadata": {},
   "outputs": [
    {
     "data": {
      "text/plain": [
       "{'name': 'elon mask', 'suit_size': 'large', 'allergies': 'peanuts'}"
      ]
     },
     "execution_count": 117,
     "metadata": {},
     "output_type": "execute_result"
    }
   ],
   "source": [
    "astronaut"
   ]
  },
  {
   "cell_type": "code",
   "execution_count": 118,
   "id": "86c7714e",
   "metadata": {},
   "outputs": [
    {
     "data": {
      "text/plain": [
       "'large'"
      ]
     },
     "execution_count": 118,
     "metadata": {},
     "output_type": "execute_result"
    }
   ],
   "source": [
    "# reading using indexing\n",
    "astronaut['suit_size']"
   ]
  },
  {
   "cell_type": "code",
   "execution_count": 119,
   "id": "16e36b20",
   "metadata": {},
   "outputs": [
    {
     "data": {
      "text/plain": [
       "dict_keys(['name', 'suit_size', 'allergies'])"
      ]
     },
     "execution_count": 119,
     "metadata": {},
     "output_type": "execute_result"
    }
   ],
   "source": [
    "astronaut.keys()"
   ]
  },
  {
   "cell_type": "code",
   "execution_count": 120,
   "id": "763f2404",
   "metadata": {},
   "outputs": [
    {
     "data": {
      "text/plain": [
       "['name', 'suit_size', 'allergies']"
      ]
     },
     "execution_count": 120,
     "metadata": {},
     "output_type": "execute_result"
    }
   ],
   "source": [
    "list(astronaut.keys())"
   ]
  },
  {
   "cell_type": "code",
   "execution_count": 121,
   "id": "76366db4",
   "metadata": {},
   "outputs": [
    {
     "data": {
      "text/plain": [
       "dict_values(['elon mask', 'large', 'peanuts'])"
      ]
     },
     "execution_count": 121,
     "metadata": {},
     "output_type": "execute_result"
    }
   ],
   "source": [
    "astronaut.values()"
   ]
  },
  {
   "cell_type": "code",
   "execution_count": 122,
   "id": "32f50478",
   "metadata": {},
   "outputs": [],
   "source": [
    "# update\n",
    "astronaut['allergies'] = 'mango'"
   ]
  },
  {
   "cell_type": "code",
   "execution_count": 123,
   "id": "b8e7df8e",
   "metadata": {},
   "outputs": [
    {
     "data": {
      "text/plain": [
       "{'name': 'elon mask', 'suit_size': 'large', 'allergies': 'mango'}"
      ]
     },
     "execution_count": 123,
     "metadata": {},
     "output_type": "execute_result"
    }
   ],
   "source": [
    "astronaut"
   ]
  },
  {
   "cell_type": "code",
   "execution_count": 124,
   "id": "3df029b1",
   "metadata": {},
   "outputs": [],
   "source": [
    "astronaut['space_ship'] = 'Galactic 1'"
   ]
  },
  {
   "cell_type": "code",
   "execution_count": 125,
   "id": "1faa9ddd",
   "metadata": {},
   "outputs": [
    {
     "ename": "KeyError",
     "evalue": "'alergies'",
     "output_type": "error",
     "traceback": [
      "\u001b[0;31m---------------------------------------------------------------------------\u001b[0m",
      "\u001b[0;31mKeyError\u001b[0m                                  Traceback (most recent call last)",
      "Cell \u001b[0;32mIn[125], line 3\u001b[0m\n\u001b[1;32m      1\u001b[0m \u001b[38;5;66;03m#delete\u001b[39;00m\n\u001b[1;32m      2\u001b[0m \u001b[38;5;28;01mdel\u001b[39;00m astronaut[\u001b[38;5;124m'\u001b[39m\u001b[38;5;124mspace_ship\u001b[39m\u001b[38;5;124m'\u001b[39m]\n\u001b[0;32m----> 3\u001b[0m \u001b[38;5;28;01mdel\u001b[39;00m astronaut[\u001b[38;5;124m'\u001b[39m\u001b[38;5;124malergies\u001b[39m\u001b[38;5;124m'\u001b[39m]\n",
      "\u001b[0;31mKeyError\u001b[0m: 'alergies'"
     ]
    }
   ],
   "source": [
    "#delete\n",
    "del astronaut['space_ship']\n",
    "del astronaut['alergies']"
   ]
  },
  {
   "cell_type": "markdown",
   "id": "060f9612",
   "metadata": {},
   "source": [
    "# 4. Conditionals and Logic"
   ]
  },
  {
   "cell_type": "code",
   "execution_count": 131,
   "id": "68f52fea",
   "metadata": {},
   "outputs": [],
   "source": [
    "# applying logic using an if statement\n",
    "name = 'Neil Armstrong'\n",
    "name = 'Nick'\n",
    "if name == 'Neil Armstrong':\n",
    "    print('Sup Neil')"
   ]
  },
  {
   "cell_type": "code",
   "execution_count": 129,
   "id": "b5a79670",
   "metadata": {},
   "outputs": [
    {
     "name": "stdout",
     "output_type": "stream",
     "text": [
      "number is greater than 5\n"
     ]
    }
   ],
   "source": [
    "test_number = 10\n",
    "if test_number >= 5:\n",
    "    print('number is greater than 5')"
   ]
  },
  {
   "cell_type": "code",
   "execution_count": 128,
   "id": "60be66cc",
   "metadata": {},
   "outputs": [
    {
     "name": "stdout",
     "output_type": "stream",
     "text": [
      "True\n"
     ]
    }
   ],
   "source": [
    "probability = 0.73\n",
    "\n",
    "# if the probability is greater than 0.5\n",
    "if probability >= 0.5:\n",
    "    print(True)\n",
    "# print out error statement if probability is less than 0\n",
    "elif probability < 0:\n",
    "    print('check your probabilities')\n",
    "    \n",
    "# anything else    \n",
    "else:\n",
    "    print(False)"
   ]
  },
  {
   "cell_type": "code",
   "execution_count": 17,
   "id": "c7a19e72",
   "metadata": {},
   "outputs": [
    {
     "name": "stdout",
     "output_type": "stream",
     "text": [
      "Elon musk's here\n"
     ]
    }
   ],
   "source": [
    "# creating a list of names\n",
    "names = ['neil armstrong','buzz aldrin','saily ride','yuri gagarin','elon musk']\n",
    "#using escapes with formating sequence\n",
    "if 'elon musk' in names:\n",
    "    print(f'{names[-1].capitalize()}\\'s here')"
   ]
  },
  {
   "cell_type": "markdown",
   "id": "b1196943",
   "metadata": {},
   "source": [
    "# 5. Loops"
   ]
  },
  {
   "cell_type": "code",
   "execution_count": 132,
   "id": "52d30495",
   "metadata": {},
   "outputs": [
    {
     "name": "stdout",
     "output_type": "stream",
     "text": [
      "neil armstrong\n",
      "Pleased to have you here\n",
      "\n",
      "buzz aldrin\n",
      "Sup buzz aldrin\n",
      "\n",
      "saily ride\n",
      "Pleased to have you here\n",
      "\n",
      "yuri gagarin\n",
      "Hey yuri gagarin\n"
     ]
    }
   ],
   "source": [
    "# this is an example for 'for loops'\n",
    "\n",
    "for name in names:\n",
    "    print(name)\n",
    "    if name == 'buzz aldrin':\n",
    "        print(f'Sup {name}\\n')\n",
    "        # Next value in the list\n",
    "        continue\n",
    "        \n",
    "    elif name == 'yuri gagarin':\n",
    "        print(f'Hey {name}')\n",
    "        # break statement breaks the loop\n",
    "        break\n",
    "        \n",
    "    else:\n",
    "        # place holder to do nothing\n",
    "       pass\n",
    "    print('Pleased to have you here\\n')"
   ]
  },
  {
   "cell_type": "code",
   "execution_count": null,
   "id": "51500936",
   "metadata": {},
   "outputs": [],
   "source": [
    "# loop x number of times\n",
    "for idx in range(1,10):\n",
    "    print(idx)"
   ]
  },
  {
   "cell_type": "code",
   "execution_count": 9,
   "id": "fce2e3f2",
   "metadata": {},
   "outputs": [
    {
     "name": "stdout",
     "output_type": "stream",
     "text": [
      "shuttle 1 launched\n",
      "shuttle 2 launched\n",
      "shuttle 3 launched\n",
      "shuttle 4 launched\n",
      "shuttle 5 launched\n",
      "shuttle 6 launched\n",
      "shuttle 7 launched\n",
      "shuttle 8 launched\n",
      "shuttle 9 launched\n",
      "shuttle 10 launched\n",
      "all shuttles are launched\n"
     ]
    }
   ],
   "source": [
    "# this is an example for 'while loops'\n",
    "launched_shuttles = 0\n",
    "total_shuttles = 10\n",
    "\n",
    "# starts to do something until you say it to stop\n",
    "while True:\n",
    "    # string formatting\n",
    "    print(f'shuttle {launched_shuttles+1} launched')\n",
    "    launched_shuttles += 1\n",
    "    \n",
    "    if(launched_shuttles == total_shuttles):\n",
    "        print('all shuttles are launched')\n",
    "        break\n",
    "    \n"
   ]
  },
  {
   "cell_type": "code",
   "execution_count": 10,
   "id": "84951233",
   "metadata": {},
   "outputs": [],
   "source": [
    "# creating a dictionary\n",
    "astronaut ={\n",
    "    'name':'Ashley Sami',\n",
    "    'suit_size':'medium',\n",
    "    'alergies':'peanuts'\n",
    "}"
   ]
  },
  {
   "cell_type": "code",
   "execution_count": 11,
   "id": "95ba4ffa",
   "metadata": {},
   "outputs": [
    {
     "name": "stdout",
     "output_type": "stream",
     "text": [
      "name\n",
      "suit_size\n",
      "alergies\n"
     ]
    }
   ],
   "source": [
    "# looping over a dictionary key\n",
    "for key in astronaut.keys():\n",
    "    print(key)"
   ]
  },
  {
   "cell_type": "code",
   "execution_count": 12,
   "id": "1b00855e",
   "metadata": {},
   "outputs": [
    {
     "data": {
      "text/plain": [
       "dict_values(['Ashley Sami', 'medium', 'peanuts'])"
      ]
     },
     "execution_count": 12,
     "metadata": {},
     "output_type": "execute_result"
    }
   ],
   "source": [
    "# Accessing dictionary values\n",
    "astronaut.values()"
   ]
  },
  {
   "cell_type": "code",
   "execution_count": 13,
   "id": "bcc5a04a",
   "metadata": {},
   "outputs": [
    {
     "name": "stdout",
     "output_type": "stream",
     "text": [
      "Ashley Sami\n",
      "medium\n",
      "peanuts\n"
     ]
    }
   ],
   "source": [
    "# looping over a dictionary value\n",
    "for value in astronaut.values():\n",
    "    print(value)"
   ]
  },
  {
   "cell_type": "code",
   "execution_count": 15,
   "id": "c5cd9b50",
   "metadata": {},
   "outputs": [
    {
     "name": "stdout",
     "output_type": "stream",
     "text": [
      "name\n",
      "Ashley Sami \n",
      "\n",
      "suit_size\n",
      "medium \n",
      "\n",
      "alergies\n",
      "peanuts \n",
      "\n"
     ]
    }
   ],
   "source": [
    "# looping through keys and values at the same time\n",
    "for key,value in astronaut.items():\n",
    "    print(key)\n",
    "    print(value,'\\n')"
   ]
  },
  {
   "cell_type": "code",
   "execution_count": 18,
   "id": "8dc62519",
   "metadata": {},
   "outputs": [],
   "source": [
    "# list comprehension\n",
    "new_list = [name.title() for name in names]"
   ]
  },
  {
   "cell_type": "code",
   "execution_count": 19,
   "id": "16c2fd9f",
   "metadata": {},
   "outputs": [
    {
     "data": {
      "text/plain": [
       "['Neil Armstrong', 'Buzz Aldrin', 'Saily Ride', 'Yuri Gagarin', 'Elon Musk']"
      ]
     },
     "execution_count": 19,
     "metadata": {},
     "output_type": "execute_result"
    }
   ],
   "source": [
    "new_list"
   ]
  },
  {
   "cell_type": "code",
   "execution_count": 20,
   "id": "0c098470",
   "metadata": {},
   "outputs": [
    {
     "data": {
      "text/plain": [
       "['neil armstrong', 'buzz aldrin', 'saily ride', 'yuri gagarin', 'elon musk']"
      ]
     },
     "execution_count": 20,
     "metadata": {},
     "output_type": "execute_result"
    }
   ],
   "source": [
    "names"
   ]
  },
  {
   "cell_type": "markdown",
   "id": "2a01b838",
   "metadata": {},
   "source": [
    "# 6. Functions"
   ]
  },
  {
   "cell_type": "code",
   "execution_count": 24,
   "id": "830dd06c",
   "metadata": {},
   "outputs": [],
   "source": [
    "# defining a function in python - Recipe\n",
    "\n",
    "def launchpad_welcome():\n",
    "    print('Welcome')"
   ]
  },
  {
   "cell_type": "code",
   "execution_count": 31,
   "id": "43209065",
   "metadata": {},
   "outputs": [
    {
     "name": "stdout",
     "output_type": "stream",
     "text": [
      "Welcome\n"
     ]
    }
   ],
   "source": [
    "# running a function\n",
    "launchpad_welcome()"
   ]
  },
  {
   "cell_type": "code",
   "execution_count": 25,
   "id": "fe27bbcb",
   "metadata": {},
   "outputs": [],
   "source": [
    "# creating a list of names\n",
    "names = ['neil armstrong','buzz aldrin','saily ride','yuri gagarin','elon musk']"
   ]
  },
  {
   "cell_type": "code",
   "execution_count": 33,
   "id": "af33dad0",
   "metadata": {},
   "outputs": [],
   "source": [
    "# defining a function in python with a single/Positional argument\n",
    "def custom_welcome(name):\n",
    "    print(f'Welcome {name}')"
   ]
  },
  {
   "cell_type": "code",
   "execution_count": 32,
   "id": "679f7854",
   "metadata": {},
   "outputs": [
    {
     "name": "stdout",
     "output_type": "stream",
     "text": [
      "Welcome neil armstrong\n",
      "Welcome buzz aldrin\n",
      "Welcome saily ride\n",
      "Welcome yuri gagarin\n",
      "Welcome elon musk\n"
     ]
    }
   ],
   "source": [
    "for name in names:\n",
    "    custom_welcome(name)"
   ]
  },
  {
   "cell_type": "code",
   "execution_count": 35,
   "id": "2752805b",
   "metadata": {},
   "outputs": [],
   "source": [
    "# defining a function in python with a multiple Positional argument\n",
    "def custom_welcome_to_ship(name,space_ship):\n",
    "    print(f'Welcome {name} to the {space_ship}')"
   ]
  },
  {
   "cell_type": "markdown",
   "id": "2cf623cd",
   "metadata": {},
   "source": [
    "The reason why they are called positional argument is that the position where we add matters"
   ]
  },
  {
   "cell_type": "code",
   "execution_count": 37,
   "id": "c7ca57b4",
   "metadata": {},
   "outputs": [
    {
     "name": "stdout",
     "output_type": "stream",
     "text": [
      "Welcome Abel Shibabaw to the Galactic 1\n"
     ]
    }
   ],
   "source": [
    "custom_welcome_to_ship('Abel Shibabaw','Galactic 1')"
   ]
  },
  {
   "cell_type": "code",
   "execution_count": 38,
   "id": "6d47cd9e",
   "metadata": {},
   "outputs": [],
   "source": [
    "space_ship=['Galactic 1','Galactic 2','USS Voyager','Maximum Amazin Wow Space Ship','Apple Space Ship']"
   ]
  },
  {
   "cell_type": "code",
   "execution_count": 40,
   "id": "834808ae",
   "metadata": {},
   "outputs": [
    {
     "name": "stdout",
     "output_type": "stream",
     "text": [
      "0 neil armstrong\n",
      "1 buzz aldrin\n",
      "2 saily ride\n",
      "3 yuri gagarin\n",
      "4 elon musk\n"
     ]
    }
   ],
   "source": [
    "for idx,name in enumerate(names):\n",
    "    print(idx,name)"
   ]
  },
  {
   "cell_type": "markdown",
   "id": "7548422d",
   "metadata": {},
   "source": [
    "looping over two lists using the index of the first list"
   ]
  },
  {
   "cell_type": "code",
   "execution_count": 45,
   "id": "5a73fcd2",
   "metadata": {},
   "outputs": [
    {
     "name": "stdout",
     "output_type": "stream",
     "text": [
      "Welcome neil armstrong to the Galactic 1\n",
      "Welcome buzz aldrin to the Galactic 2\n",
      "Welcome saily ride to the USS Voyager\n",
      "Welcome yuri gagarin to the Maximum Amazin Wow Space Ship\n",
      "Welcome elon musk to the Apple Space Ship\n"
     ]
    }
   ],
   "source": [
    "# used the enumerate function to get the name and index\n",
    "for idx,name in enumerate(names):\n",
    "    ship= space_ship[idx]\n",
    "    custom_welcome_to_ship(name,ship)"
   ]
  },
  {
   "cell_type": "code",
   "execution_count": 48,
   "id": "fae636cc",
   "metadata": {},
   "outputs": [],
   "source": [
    "# keyword argument that is assigned if the function deoesn't recieve anything\n",
    "def space_suit(color = 'Blue'):\n",
    "    print('Your space suit is {}'.format(color))"
   ]
  },
  {
   "cell_type": "code",
   "execution_count": 53,
   "id": "8418ab49",
   "metadata": {},
   "outputs": [
    {
     "name": "stdout",
     "output_type": "stream",
     "text": [
      "Your space suit is Red\n",
      "Your space suit is Blue\n"
     ]
    }
   ],
   "source": [
    "space_suit(color='Red')\n",
    "space_suit()"
   ]
  },
  {
   "cell_type": "code",
   "execution_count": 52,
   "id": "08ce1b02",
   "metadata": {},
   "outputs": [],
   "source": [
    "# never write the keyword argument before positional argument\n",
    "def space_suit_wellcome(name,space_ship,color='Blue'):\n",
    "    print('welcome {} to the {}, your space suit is {}'.format(name,space_ship,color))"
   ]
  },
  {
   "cell_type": "markdown",
   "id": "8423b79b",
   "metadata": {},
   "source": [
    "Note: but the order of keyword doesn't matter you can change it up"
   ]
  },
  {
   "cell_type": "code",
   "execution_count": 54,
   "id": "97f7dfc1",
   "metadata": {},
   "outputs": [],
   "source": [
    "def space_suit_return(name,space_ship,color='Blue'):\n",
    "    return 'welcome {} to the {}, your space suit is {}'.format(name,space_ship,color)"
   ]
  },
  {
   "cell_type": "code",
   "execution_count": 55,
   "id": "80aaef23",
   "metadata": {},
   "outputs": [],
   "source": [
    "welcome = space_suit_return('abebe','bekilla',color='red')"
   ]
  },
  {
   "cell_type": "code",
   "execution_count": 56,
   "id": "275a84c9",
   "metadata": {},
   "outputs": [
    {
     "name": "stdout",
     "output_type": "stream",
     "text": [
      "welcome abebe to the bekilla, your space suit is red\n"
     ]
    }
   ],
   "source": [
    "print(welcome)"
   ]
  },
  {
   "cell_type": "code",
   "execution_count": 59,
   "id": "638b4f47",
   "metadata": {},
   "outputs": [
    {
     "name": "stdout",
     "output_type": "stream",
     "text": [
      "6.28\n"
     ]
    }
   ],
   "source": [
    "# lamda function - anonymous function\n",
    "pi = lambda x: x*3.14\n",
    "print(pi(2))"
   ]
  },
  {
   "cell_type": "markdown",
   "id": "97c7dda4",
   "metadata": {},
   "source": [
    "# 7. Classes"
   ]
  },
  {
   "cell_type": "code",
   "execution_count": 104,
   "id": "f2e7505c",
   "metadata": {},
   "outputs": [],
   "source": [
    "# classes are boiler plates for objects\n",
    "\n",
    "class Person():\n",
    "    # the method as soon as you create a class initialize\n",
    "    def __init__(self, name, age, color):\n",
    "        # Create same attributes for our person class\n",
    "        self.name = name\n",
    "        self.age = age\n",
    "        self.color = color\n",
    "    # Date of birth method\n",
    "    def year_of_birth(self):\n",
    "        return 2021 - self.age\n",
    "    # Projected age\n",
    "    def projected_age(self,years = 5):\n",
    "        return self.age + years"
   ]
  },
  {
   "cell_type": "code",
   "execution_count": 105,
   "id": "19750812",
   "metadata": {},
   "outputs": [],
   "source": [
    "new_person = Person('abel', 22, 'Black')"
   ]
  },
  {
   "cell_type": "code",
   "execution_count": 94,
   "id": "643d2685",
   "metadata": {},
   "outputs": [
    {
     "data": {
      "text/plain": [
       "'abel'"
      ]
     },
     "execution_count": 94,
     "metadata": {},
     "output_type": "execute_result"
    }
   ],
   "source": [
    "new_person.name"
   ]
  },
  {
   "cell_type": "code",
   "execution_count": 103,
   "id": "5ae68976",
   "metadata": {},
   "outputs": [
    {
     "data": {
      "text/plain": [
       "1999"
      ]
     },
     "execution_count": 103,
     "metadata": {},
     "output_type": "execute_result"
    }
   ],
   "source": [
    "# run a method\n",
    "new_person.year_of_birth()"
   ]
  },
  {
   "cell_type": "code",
   "execution_count": 106,
   "id": "69465a7b",
   "metadata": {},
   "outputs": [
    {
     "data": {
      "text/plain": [
       "27"
      ]
     },
     "execution_count": 106,
     "metadata": {},
     "output_type": "execute_result"
    }
   ],
   "source": [
    "new_person.projected_age()"
   ]
  },
  {
   "cell_type": "markdown",
   "id": "1ae4bdb1",
   "metadata": {},
   "source": [
    "# 8. Inheritance - \n",
    "- parent: is the class passing down attributes and methods = PERSON\n",
    "- child: is the class inherting the methods and attributes = ASTRONAUT"
   ]
  },
  {
   "cell_type": "code",
   "execution_count": 129,
   "id": "5ce414f5",
   "metadata": {},
   "outputs": [],
   "source": [
    "# Create a child class\n",
    "class Astronaut(Person):\n",
    "    def __init__( self, name, age, color, misson_length_in_month ):\n",
    "        super().__init__(name,age,color)\n",
    "        self.misson_length_in_month = misson_length_in_month\n",
    "    # method for caculating age on returh\n",
    "    def age_on_return(self):\n",
    "        return self.projected_age(\n",
    "            years =int( self.misson_length_in_month/12)\n",
    "        )\n",
    "        "
   ]
  },
  {
   "cell_type": "code",
   "execution_count": 130,
   "id": "bf63a235",
   "metadata": {},
   "outputs": [],
   "source": [
    "new_astronaut = Astronaut('abebe',12,'white',20)"
   ]
  },
  {
   "cell_type": "markdown",
   "id": "0026141e",
   "metadata": {},
   "source": [
    "this is the method inherited from Person Class"
   ]
  },
  {
   "cell_type": "code",
   "execution_count": 132,
   "id": "59d1a56f",
   "metadata": {},
   "outputs": [
    {
     "data": {
      "text/plain": [
       "13"
      ]
     },
     "execution_count": 132,
     "metadata": {},
     "output_type": "execute_result"
    }
   ],
   "source": [
    "new_astronaut.age_on_return()"
   ]
  },
  {
   "cell_type": "markdown",
   "id": "425de778",
   "metadata": {},
   "source": [
    "# 9. Modules"
   ]
  },
  {
   "cell_type": "code",
   "execution_count": 133,
   "id": "71a2fab4",
   "metadata": {},
   "outputs": [],
   "source": [
    "# Import launch codes helper\n",
    "from helpers import launch_codes"
   ]
  },
  {
   "cell_type": "code",
   "execution_count": 134,
   "id": "a0c69a8f",
   "metadata": {},
   "outputs": [
    {
     "data": {
      "text/plain": [
       "123456789"
      ]
     },
     "execution_count": 134,
     "metadata": {},
     "output_type": "execute_result"
    }
   ],
   "source": [
    "launch_codes()"
   ]
  },
  {
   "cell_type": "markdown",
   "id": "86b359da",
   "metadata": {},
   "source": [
    "# 10. Working with packages"
   ]
  },
  {
   "cell_type": "code",
   "execution_count": 135,
   "id": "0d252a15",
   "metadata": {
    "collapsed": true
   },
   "outputs": [
    {
     "name": "stdout",
     "output_type": "stream",
     "text": [
      "Requirement already satisfied: requests in /home/abelcosmic/anaconda3/lib/python3.11/site-packages (2.31.0)\n",
      "Requirement already satisfied: charset-normalizer<4,>=2 in /home/abelcosmic/anaconda3/lib/python3.11/site-packages (from requests) (2.0.4)\n",
      "Requirement already satisfied: idna<4,>=2.5 in /home/abelcosmic/anaconda3/lib/python3.11/site-packages (from requests) (3.4)\n",
      "Requirement already satisfied: urllib3<3,>=1.21.1 in /home/abelcosmic/anaconda3/lib/python3.11/site-packages (from requests) (1.26.16)\n",
      "Requirement already satisfied: certifi>=2017.4.17 in /home/abelcosmic/anaconda3/lib/python3.11/site-packages (from requests) (2023.7.22)\n"
     ]
    }
   ],
   "source": [
    "!pip install requests"
   ]
  },
  {
   "cell_type": "code",
   "execution_count": null,
   "id": "4dc9eb89",
   "metadata": {
    "scrolled": false
   },
   "outputs": [],
   "source": [
    "# listing all the packages from the command prompt in my local machine\n",
    "!pip list"
   ]
  },
  {
   "cell_type": "code",
   "execution_count": 138,
   "id": "9c40fc73",
   "metadata": {},
   "outputs": [],
   "source": [
    "# import request into notebook\n",
    "import requests"
   ]
  },
  {
   "cell_type": "code",
   "execution_count": 139,
   "id": "d1f00e17",
   "metadata": {},
   "outputs": [],
   "source": [
    "requests.get??"
   ]
  },
  {
   "cell_type": "code",
   "execution_count": 182,
   "id": "b7bc51ac",
   "metadata": {},
   "outputs": [],
   "source": [
    "# I can haz dad joke api endpoint\n",
    "joke_url = 'https://icanhazdadjoke.com'\n",
    "\n",
    "# where the iss api endpoint\n",
    "iss_url = 'https://api.wheretheiss.at/v1/satellites/25544'"
   ]
  },
  {
   "cell_type": "code",
   "execution_count": 183,
   "id": "895335a2",
   "metadata": {},
   "outputs": [],
   "source": [
    "# This is setting up a header metadata for your api request\n",
    "my_header = {'Accept':'application/json'}\n",
    "\n",
    "# API call\n",
    "results = requests.get(joke_url,headers=my_header)"
   ]
  },
  {
   "cell_type": "code",
   "execution_count": 163,
   "id": "02339fa1",
   "metadata": {},
   "outputs": [],
   "source": [
    "json_result = results.json()"
   ]
  },
  {
   "cell_type": "code",
   "execution_count": 148,
   "id": "12f76248",
   "metadata": {},
   "outputs": [
    {
     "data": {
      "text/plain": [
       "dict"
      ]
     },
     "execution_count": 148,
     "metadata": {},
     "output_type": "execute_result"
    }
   ],
   "source": [
    "type(json_result)"
   ]
  },
  {
   "cell_type": "code",
   "execution_count": 164,
   "id": "d6e45649",
   "metadata": {},
   "outputs": [
    {
     "data": {
      "text/plain": [
       "{'id': 'QuscibaMClb',\n",
       " 'joke': 'What does a pirate pay for his corn? A buccaneer!',\n",
       " 'status': 200}"
      ]
     },
     "execution_count": 164,
     "metadata": {},
     "output_type": "execute_result"
    }
   ],
   "source": [
    "json_result"
   ]
  },
  {
   "cell_type": "code",
   "execution_count": 165,
   "id": "92834b8d",
   "metadata": {},
   "outputs": [
    {
     "data": {
      "text/plain": [
       "'What does a pirate pay for his corn? A buccaneer!'"
      ]
     },
     "execution_count": 165,
     "metadata": {},
     "output_type": "execute_result"
    }
   ],
   "source": [
    "json_result['joke']"
   ]
  },
  {
   "cell_type": "code",
   "execution_count": 184,
   "id": "28d1a6f1",
   "metadata": {},
   "outputs": [],
   "source": [
    "solution = requests.get(iss_url,headers=my_header)"
   ]
  },
  {
   "cell_type": "code",
   "execution_count": 185,
   "id": "17554663",
   "metadata": {},
   "outputs": [
    {
     "data": {
      "text/plain": [
       "<Response [404]>"
      ]
     },
     "execution_count": 185,
     "metadata": {},
     "output_type": "execute_result"
    }
   ],
   "source": [
    "solution"
   ]
  }
 ],
 "metadata": {
  "kernelspec": {
   "display_name": "Python 3 (ipykernel)",
   "language": "python",
   "name": "python3"
  },
  "language_info": {
   "codemirror_mode": {
    "name": "ipython",
    "version": 3
   },
   "file_extension": ".py",
   "mimetype": "text/x-python",
   "name": "python",
   "nbconvert_exporter": "python",
   "pygments_lexer": "ipython3",
   "version": "3.11.4"
  }
 },
 "nbformat": 4,
 "nbformat_minor": 5
}
