{
 "cells": [
  {
   "cell_type": "markdown",
   "id": "4d4c1c9e",
   "metadata": {},
   "source": [
    "# 0. Variables"
   ]
  },
  {
   "cell_type": "markdown",
   "id": "9298cbf5",
   "metadata": {},
   "source": [
    "##### In Python, variables are used to store and manage data values. They provide a way to give a name or identifier to a piece of data, making it easier to refer to and manipulate that data throughout your program. Variables allow you to store various types of data, such as numbers, strings, lists, and more."
   ]
  },
  {
   "cell_type": "code",
   "execution_count": 78,
   "id": "0d1e46aa",
   "metadata": {},
   "outputs": [],
   "source": [
    "space_name = \"Astronaut Abel\""
   ]
  },
  {
   "cell_type": "code",
   "execution_count": 79,
   "id": "6a8e7d57",
   "metadata": {},
   "outputs": [
    {
     "name": "stdout",
     "output_type": "stream",
     "text": [
      "Astronaut Abel\n"
     ]
    }
   ],
   "source": [
    "print(space_name)"
   ]
  },
  {
   "cell_type": "markdown",
   "id": "184355a7",
   "metadata": {},
   "source": [
    "This is how you assign a variable in python and call it using the print function."
   ]
  },
  {
   "cell_type": "code",
   "execution_count": 80,
   "id": "009ed0b9",
   "metadata": {},
   "outputs": [
    {
     "data": {
      "text/plain": [
       "str"
      ]
     },
     "execution_count": 80,
     "metadata": {},
     "output_type": "execute_result"
    }
   ],
   "source": [
    "type(space_name)"
   ]
  },
  {
   "cell_type": "code",
   "execution_count": 81,
   "id": "d66a47d0",
   "metadata": {},
   "outputs": [],
   "source": [
    "space_name = 123456"
   ]
  },
  {
   "cell_type": "markdown",
   "id": "173b9a40",
   "metadata": {},
   "source": [
    "here we reassign the same variable."
   ]
  },
  {
   "cell_type": "code",
   "execution_count": 82,
   "id": "452f4b76",
   "metadata": {},
   "outputs": [
    {
     "data": {
      "text/plain": [
       "int"
      ]
     },
     "execution_count": 82,
     "metadata": {},
     "output_type": "execute_result"
    }
   ],
   "source": [
    "type(space_name)"
   ]
  },
  {
   "cell_type": "markdown",
   "id": "3272cb61",
   "metadata": {},
   "source": [
    "# 1. Data Types"
   ]
  },
  {
   "cell_type": "code",
   "execution_count": 83,
   "id": "84e5c5bf",
   "metadata": {},
   "outputs": [
    {
     "name": "stdout",
     "output_type": "stream",
     "text": [
      "pluto\n"
     ]
    }
   ],
   "source": [
    "# This is declaring a variable as a string\n",
    "string_variable = 'pluto'\n",
    "print(string_variable)"
   ]
  },
  {
   "cell_type": "code",
   "execution_count": 84,
   "id": "15f3e0c1",
   "metadata": {},
   "outputs": [
    {
     "data": {
      "text/plain": [
       "str"
      ]
     },
     "execution_count": 84,
     "metadata": {},
     "output_type": "execute_result"
    }
   ],
   "source": [
    "type(string_variable)"
   ]
  },
  {
   "cell_type": "code",
   "execution_count": 85,
   "id": "5b3bd671",
   "metadata": {},
   "outputs": [
    {
     "name": "stdout",
     "output_type": "stream",
     "text": [
      "1234\n"
     ]
    }
   ],
   "source": [
    "# This is declaring a variable as a integer\n",
    "integer_variable = 1234\n",
    "print(integer_variable)"
   ]
  },
  {
   "cell_type": "code",
   "execution_count": 86,
   "id": "904ee7c4",
   "metadata": {},
   "outputs": [
    {
     "data": {
      "text/plain": [
       "int"
      ]
     },
     "execution_count": 86,
     "metadata": {},
     "output_type": "execute_result"
    }
   ],
   "source": [
    "type(integer_variable)"
   ]
  },
  {
   "cell_type": "code",
   "execution_count": 87,
   "id": "dde11699",
   "metadata": {},
   "outputs": [
    {
     "name": "stdout",
     "output_type": "stream",
     "text": [
      "1234.45\n"
     ]
    }
   ],
   "source": [
    "# This is declaring a variable as a float\n",
    "float_variable = 1234.45\n",
    "print(float_variable)"
   ]
  },
  {
   "cell_type": "code",
   "execution_count": 88,
   "id": "5f108aa9",
   "metadata": {},
   "outputs": [
    {
     "data": {
      "text/plain": [
       "float"
      ]
     },
     "execution_count": 88,
     "metadata": {},
     "output_type": "execute_result"
    }
   ],
   "source": [
    "type(float_variable)"
   ]
  },
  {
   "cell_type": "code",
   "execution_count": 89,
   "id": "3b875824",
   "metadata": {},
   "outputs": [
    {
     "name": "stdout",
     "output_type": "stream",
     "text": [
      "False\n"
     ]
    }
   ],
   "source": [
    "# This is declaring a variable as a boolean \n",
    "bool_variable = False\n",
    "print(bool_variable)"
   ]
  },
  {
   "cell_type": "code",
   "execution_count": 90,
   "id": "25991e8c",
   "metadata": {},
   "outputs": [
    {
     "data": {
      "text/plain": [
       "bool"
      ]
     },
     "execution_count": 90,
     "metadata": {},
     "output_type": "execute_result"
    }
   ],
   "source": [
    "type(bool_variable)"
   ]
  },
  {
   "cell_type": "code",
   "execution_count": 91,
   "id": "a811b2d7",
   "metadata": {},
   "outputs": [
    {
     "data": {
      "text/plain": [
       "'False'"
      ]
     },
     "execution_count": 91,
     "metadata": {},
     "output_type": "execute_result"
    }
   ],
   "source": [
    "str(bool_variable)"
   ]
  },
  {
   "cell_type": "markdown",
   "id": "fdc8e3e3",
   "metadata": {},
   "source": [
    "this are the type casting functions"
   ]
  },
  {
   "cell_type": "code",
   "execution_count": 92,
   "id": "db9e6537",
   "metadata": {},
   "outputs": [
    {
     "data": {
      "text/plain": [
       "False"
      ]
     },
     "execution_count": 92,
     "metadata": {},
     "output_type": "execute_result"
    }
   ],
   "source": [
    "bool(bool_variable)"
   ]
  },
  {
   "cell_type": "code",
   "execution_count": 93,
   "id": "85969e87",
   "metadata": {},
   "outputs": [
    {
     "name": "stdout",
     "output_type": "stream",
     "text": [
      "[1, 2, 3, 4]\n"
     ]
    }
   ],
   "source": [
    "# This is declaring a variable as a list \n",
    "list_variable = [1,2,3,4]\n",
    "print(list_variable)"
   ]
  },
  {
   "cell_type": "code",
   "execution_count": 94,
   "id": "6bd33458",
   "metadata": {},
   "outputs": [
    {
     "name": "stdout",
     "output_type": "stream",
     "text": [
      "1\n"
     ]
    }
   ],
   "source": [
    "print(list_variable[0])"
   ]
  },
  {
   "cell_type": "code",
   "execution_count": 95,
   "id": "cbd299dc",
   "metadata": {},
   "outputs": [
    {
     "data": {
      "text/plain": [
       "list"
      ]
     },
     "execution_count": 95,
     "metadata": {},
     "output_type": "execute_result"
    }
   ],
   "source": [
    "type(list_variable)"
   ]
  },
  {
   "cell_type": "code",
   "execution_count": 96,
   "id": "29b3b476",
   "metadata": {},
   "outputs": [
    {
     "name": "stdout",
     "output_type": "stream",
     "text": [
      "(1, 2, 3, 4)\n"
     ]
    },
    {
     "data": {
      "text/plain": [
       "tuple"
      ]
     },
     "execution_count": 96,
     "metadata": {},
     "output_type": "execute_result"
    }
   ],
   "source": [
    "\"\"\"\n",
    "This is declaring a variable as a tuple and are immutable(un assignable)\n",
    "\"\"\"\n",
    "tuple_variable = (1,2,3,4)\n",
    "print(tuple_variable)\n",
    "type(tuple_variable)"
   ]
  },
  {
   "cell_type": "code",
   "execution_count": 97,
   "id": "ca2ae240",
   "metadata": {},
   "outputs": [
    {
     "name": "stdout",
     "output_type": "stream",
     "text": [
      "3\n"
     ]
    }
   ],
   "source": [
    "print(tuple_variable[2])"
   ]
  },
  {
   "cell_type": "code",
   "execution_count": 98,
   "id": "ecd28e60",
   "metadata": {},
   "outputs": [],
   "source": [
    "#tuple_variable[2]= 3"
   ]
  },
  {
   "cell_type": "markdown",
   "id": "f53408d6",
   "metadata": {},
   "source": [
    "---------------------------------------------------------------------------\n",
    "TypeError                                 Traceback (most recent call last)\n",
    "Cell In[55], line 1\n",
    "----> 1 tuple_variable[2]= 3\n",
    "\n",
    "TypeError: 'tuple' object does not support item assignment\n"
   ]
  },
  {
   "cell_type": "code",
   "execution_count": 99,
   "id": "65626574",
   "metadata": {},
   "outputs": [
    {
     "name": "stdout",
     "output_type": "stream",
     "text": [
      "{1, 2, 3, 4}\n"
     ]
    },
    {
     "data": {
      "text/plain": [
       "set"
      ]
     },
     "execution_count": 99,
     "metadata": {},
     "output_type": "execute_result"
    }
   ],
   "source": [
    "\"\"\"\n",
    "This is declaring a variable as a set and are immutable(un assignable)\n",
    "and it can not have duplicates \n",
    "\"\"\"\n",
    "set_variable = {1,2,3,4}\n",
    "print(set_variable)\n",
    "type(set_variable)"
   ]
  },
  {
   "cell_type": "code",
   "execution_count": 100,
   "id": "8bea6b00",
   "metadata": {},
   "outputs": [],
   "source": [
    "#set_variable[2] = 2"
   ]
  },
  {
   "cell_type": "markdown",
   "id": "c79e5238",
   "metadata": {},
   "source": [
    "---------------------------------------------------------------------------\n",
    "TypeError                                 Traceback (most recent call last)\n",
    "Cell In[60], line 1\n",
    "----> 1 set_variable[2] = 2\n",
    "\n",
    "TypeError: 'set' object does not support item assignment\n",
    "\n"
   ]
  },
  {
   "cell_type": "code",
   "execution_count": 101,
   "id": "d7099f7c",
   "metadata": {},
   "outputs": [
    {
     "name": "stdout",
     "output_type": "stream",
     "text": [
      "[1, 2, 3, 4, 5, 5, 2, 1]\n",
      "[1, 2, 3, 4, 5]\n"
     ]
    }
   ],
   "source": [
    "#typecasting lists to set to remove duplicates\n",
    "\n",
    "lists = [1,2,3,4,5,5,2,1]\n",
    "print(lists)\n",
    "\n",
    "#we use set to type cast to list\n",
    "\n",
    "print(list(set(lists)))"
   ]
  },
  {
   "cell_type": "code",
   "execution_count": 102,
   "id": "f96e2cf2",
   "metadata": {},
   "outputs": [
    {
     "name": "stdout",
     "output_type": "stream",
     "text": [
      "{'name': 'Shibabaw', 'favorite_color': 'red', 'favorite_number': 20}\n"
     ]
    }
   ],
   "source": [
    "# This is declaring a dictionary variable\n",
    "dict_variable = {\n",
    "    'name':\"Shibabaw\",\n",
    "    'favorite_color':\"red\",\n",
    "    'favorite_number':20\n",
    "}\n",
    "print(dict_variable)"
   ]
  },
  {
   "cell_type": "code",
   "execution_count": 103,
   "id": "ae928933",
   "metadata": {},
   "outputs": [
    {
     "name": "stdout",
     "output_type": "stream",
     "text": [
      "Shibabaw\n"
     ]
    }
   ],
   "source": [
    "print(dict_variable['name'])"
   ]
  },
  {
   "cell_type": "markdown",
   "id": "1b6ba671",
   "metadata": {},
   "source": [
    "# 2. Lists"
   ]
  },
  {
   "cell_type": "code",
   "execution_count": 104,
   "id": "b9d2b90c",
   "metadata": {},
   "outputs": [],
   "source": [
    "# create\n",
    "names = ['neil armstrong','buzz aldrin', 'sally ride','yuri gagarin','elon mask']"
   ]
  },
  {
   "cell_type": "code",
   "execution_count": 105,
   "id": "43c264d1",
   "metadata": {},
   "outputs": [
    {
     "data": {
      "text/plain": [
       "['neil armstrong', 'buzz aldrin', 'sally ride', 'yuri gagarin', 'elon mask']"
      ]
     },
     "execution_count": 105,
     "metadata": {},
     "output_type": "execute_result"
    }
   ],
   "source": [
    "# read\n",
    "names"
   ]
  },
  {
   "cell_type": "code",
   "execution_count": 106,
   "id": "93d9953c",
   "metadata": {},
   "outputs": [
    {
     "data": {
      "text/plain": [
       "'neil armstrong'"
      ]
     },
     "execution_count": 106,
     "metadata": {},
     "output_type": "execute_result"
    }
   ],
   "source": [
    "# reading using indexing\n",
    "names[0]"
   ]
  },
  {
   "cell_type": "code",
   "execution_count": 107,
   "id": "c97ea55f",
   "metadata": {},
   "outputs": [
    {
     "data": {
      "text/plain": [
       "'elon mask'"
      ]
     },
     "execution_count": 107,
     "metadata": {},
     "output_type": "execute_result"
    }
   ],
   "source": [
    "names[-1]"
   ]
  },
  {
   "cell_type": "code",
   "execution_count": 108,
   "id": "99d899bf",
   "metadata": {},
   "outputs": [
    {
     "data": {
      "text/plain": [
       "5"
      ]
     },
     "execution_count": 108,
     "metadata": {},
     "output_type": "execute_result"
    }
   ],
   "source": [
    "len(names)"
   ]
  },
  {
   "cell_type": "code",
   "execution_count": 109,
   "id": "fa5e7b08",
   "metadata": {},
   "outputs": [
    {
     "data": {
      "text/plain": [
       "['neil armstrong',\n",
       " 'buzz aldrin',\n",
       " 'sally ride',\n",
       " 'yuri gagarin',\n",
       " 'abel shibabaw']"
      ]
     },
     "execution_count": 109,
     "metadata": {},
     "output_type": "execute_result"
    }
   ],
   "source": [
    "# update\n",
    "\n",
    "names[-1] = 'abel shibabaw'\n",
    "names"
   ]
  },
  {
   "cell_type": "code",
   "execution_count": 110,
   "id": "17c2fc43",
   "metadata": {},
   "outputs": [],
   "source": [
    "# it adds at the end\n",
    "names.append('elon mask')"
   ]
  },
  {
   "cell_type": "code",
   "execution_count": 111,
   "id": "f1586ff9",
   "metadata": {},
   "outputs": [
    {
     "data": {
      "text/plain": [
       "['neil armstrong',\n",
       " 'buzz aldrin',\n",
       " 'sally ride',\n",
       " 'yuri gagarin',\n",
       " 'abel shibabaw',\n",
       " 'elon mask']"
      ]
     },
     "execution_count": 111,
     "metadata": {},
     "output_type": "execute_result"
    }
   ],
   "source": [
    "names"
   ]
  },
  {
   "cell_type": "code",
   "execution_count": 112,
   "id": "5aad82c5",
   "metadata": {},
   "outputs": [],
   "source": [
    "names.insert(0,'abebe bekilla')"
   ]
  },
  {
   "cell_type": "code",
   "execution_count": 113,
   "id": "a98624d9",
   "metadata": {},
   "outputs": [],
   "source": [
    "names.remove('abebe bekilla')"
   ]
  },
  {
   "cell_type": "code",
   "execution_count": 114,
   "id": "79264a9b",
   "metadata": {},
   "outputs": [],
   "source": [
    "# delete\n",
    "\n",
    "del names[4]"
   ]
  },
  {
   "cell_type": "markdown",
   "id": "2f9613dc",
   "metadata": {},
   "source": [
    "# 3. Dictionaries"
   ]
  },
  {
   "cell_type": "code",
   "execution_count": 115,
   "id": "5a4ece22",
   "metadata": {},
   "outputs": [],
   "source": [
    "# create \n",
    "astronaut = {\n",
    "    \"name\":\"elon mask\",\n",
    "    \"suit_size\":\"large\",\n",
    "    \"allergies\":\"peanuts\"\n",
    "}"
   ]
  },
  {
   "cell_type": "code",
   "execution_count": 116,
   "id": "7719661a",
   "metadata": {},
   "outputs": [],
   "source": [
    "# read"
   ]
  },
  {
   "cell_type": "code",
   "execution_count": 117,
   "id": "07136ab5",
   "metadata": {},
   "outputs": [
    {
     "data": {
      "text/plain": [
       "{'name': 'elon mask', 'suit_size': 'large', 'allergies': 'peanuts'}"
      ]
     },
     "execution_count": 117,
     "metadata": {},
     "output_type": "execute_result"
    }
   ],
   "source": [
    "astronaut"
   ]
  },
  {
   "cell_type": "code",
   "execution_count": 118,
   "id": "86c7714e",
   "metadata": {},
   "outputs": [
    {
     "data": {
      "text/plain": [
       "'large'"
      ]
     },
     "execution_count": 118,
     "metadata": {},
     "output_type": "execute_result"
    }
   ],
   "source": [
    "# reading using indexing\n",
    "astronaut['suit_size']"
   ]
  },
  {
   "cell_type": "code",
   "execution_count": 119,
   "id": "16e36b20",
   "metadata": {},
   "outputs": [
    {
     "data": {
      "text/plain": [
       "dict_keys(['name', 'suit_size', 'allergies'])"
      ]
     },
     "execution_count": 119,
     "metadata": {},
     "output_type": "execute_result"
    }
   ],
   "source": [
    "astronaut.keys()"
   ]
  },
  {
   "cell_type": "code",
   "execution_count": 120,
   "id": "763f2404",
   "metadata": {},
   "outputs": [
    {
     "data": {
      "text/plain": [
       "['name', 'suit_size', 'allergies']"
      ]
     },
     "execution_count": 120,
     "metadata": {},
     "output_type": "execute_result"
    }
   ],
   "source": [
    "list(astronaut.keys())"
   ]
  },
  {
   "cell_type": "code",
   "execution_count": 121,
   "id": "76366db4",
   "metadata": {},
   "outputs": [
    {
     "data": {
      "text/plain": [
       "dict_values(['elon mask', 'large', 'peanuts'])"
      ]
     },
     "execution_count": 121,
     "metadata": {},
     "output_type": "execute_result"
    }
   ],
   "source": [
    "astronaut.values()"
   ]
  },
  {
   "cell_type": "code",
   "execution_count": 122,
   "id": "32f50478",
   "metadata": {},
   "outputs": [],
   "source": [
    "# update\n",
    "astronaut['allergies'] = 'mango'"
   ]
  },
  {
   "cell_type": "code",
   "execution_count": 123,
   "id": "b8e7df8e",
   "metadata": {},
   "outputs": [
    {
     "data": {
      "text/plain": [
       "{'name': 'elon mask', 'suit_size': 'large', 'allergies': 'mango'}"
      ]
     },
     "execution_count": 123,
     "metadata": {},
     "output_type": "execute_result"
    }
   ],
   "source": [
    "astronaut"
   ]
  },
  {
   "cell_type": "code",
   "execution_count": 124,
   "id": "3df029b1",
   "metadata": {},
   "outputs": [],
   "source": [
    "astronaut['space_ship'] = 'Galactic 1'"
   ]
  },
  {
   "cell_type": "code",
   "execution_count": 125,
   "id": "1faa9ddd",
   "metadata": {},
   "outputs": [
    {
     "ename": "KeyError",
     "evalue": "'alergies'",
     "output_type": "error",
     "traceback": [
      "\u001b[0;31m---------------------------------------------------------------------------\u001b[0m",
      "\u001b[0;31mKeyError\u001b[0m                                  Traceback (most recent call last)",
      "Cell \u001b[0;32mIn[125], line 3\u001b[0m\n\u001b[1;32m      1\u001b[0m \u001b[38;5;66;03m#delete\u001b[39;00m\n\u001b[1;32m      2\u001b[0m \u001b[38;5;28;01mdel\u001b[39;00m astronaut[\u001b[38;5;124m'\u001b[39m\u001b[38;5;124mspace_ship\u001b[39m\u001b[38;5;124m'\u001b[39m]\n\u001b[0;32m----> 3\u001b[0m \u001b[38;5;28;01mdel\u001b[39;00m astronaut[\u001b[38;5;124m'\u001b[39m\u001b[38;5;124malergies\u001b[39m\u001b[38;5;124m'\u001b[39m]\n",
      "\u001b[0;31mKeyError\u001b[0m: 'alergies'"
     ]
    }
   ],
   "source": [
    "#delete\n",
    "del astronaut['space_ship']\n",
    "del astronaut['alergies']"
   ]
  },
  {
   "cell_type": "markdown",
   "id": "060f9612",
   "metadata": {},
   "source": [
    "# 4. Conditionals and Logic"
   ]
  },
  {
   "cell_type": "code",
   "execution_count": 131,
   "id": "68f52fea",
   "metadata": {},
   "outputs": [],
   "source": [
    "# applying logic using an if statement\n",
    "name = 'Neil Armstrong'\n",
    "name = 'Nick'\n",
    "if name == 'Neil Armstrong':\n",
    "    print('Sup Neil')"
   ]
  },
  {
   "cell_type": "code",
   "execution_count": 129,
   "id": "b5a79670",
   "metadata": {},
   "outputs": [
    {
     "name": "stdout",
     "output_type": "stream",
     "text": [
      "number is greater than 5\n"
     ]
    }
   ],
   "source": [
    "test_number = 10\n",
    "if test_number >= 5:\n",
    "    print('number is greater than 5')"
   ]
  },
  {
   "cell_type": "code",
   "execution_count": 128,
   "id": "60be66cc",
   "metadata": {},
   "outputs": [
    {
     "name": "stdout",
     "output_type": "stream",
     "text": [
      "True\n"
     ]
    }
   ],
   "source": [
    "probability = 0.73\n",
    "\n",
    "# if the probability is greater than 0.5\n",
    "if probability >= 0.5:\n",
    "    print(True)\n",
    "# print out error statement if probability is less than 0\n",
    "elif probability < 0:\n",
    "    print('check your probabilities')\n",
    "    \n",
    "# anything else    \n",
    "else:\n",
    "    print(False)"
   ]
  },
  {
   "cell_type": "code",
   "execution_count": 127,
   "id": "c7a19e72",
   "metadata": {},
   "outputs": [
    {
     "name": "stdout",
     "output_type": "stream",
     "text": [
      "Elon musk's here\n"
     ]
    }
   ],
   "source": [
    "# creating a list of names\n",
    "names = ['neil armstrong','buzz aldrin','saily ride','yuri gagarin','elon musk']\n",
    "#using escapes with formating sequence\n",
    "if 'elon musk' in names:\n",
    "    print(f'{names[-1].capitalize()}\\'s here')"
   ]
  },
  {
   "cell_type": "markdown",
   "id": "b1196943",
   "metadata": {},
   "source": [
    "# 5. Loops"
   ]
  },
  {
   "cell_type": "code",
   "execution_count": 132,
   "id": "52d30495",
   "metadata": {},
   "outputs": [
    {
     "name": "stdout",
     "output_type": "stream",
     "text": [
      "neil armstrong\n",
      "Pleased to have you here\n",
      "\n",
      "buzz aldrin\n",
      "Sup buzz aldrin\n",
      "\n",
      "saily ride\n",
      "Pleased to have you here\n",
      "\n",
      "yuri gagarin\n",
      "Hey yuri gagarin\n"
     ]
    }
   ],
   "source": [
    "# this is an example for 'for loops'\n",
    "\n",
    "for name in names:\n",
    "    print(name)\n",
    "    if name == 'buzz aldrin':\n",
    "        print(f'Sup {name}\\n')\n",
    "        # Next value in the list\n",
    "        continue\n",
    "        \n",
    "    elif name == 'yuri gagarin':\n",
    "        print(f'Hey {name}')\n",
    "        # break statement breaks the loop\n",
    "        break\n",
    "        \n",
    "    else:\n",
    "        # place holder to do nothing\n",
    "       pass\n",
    "    print('Pleased to have you here\\n')"
   ]
  },
  {
   "cell_type": "code",
   "execution_count": 3,
   "id": "51500936",
   "metadata": {},
   "outputs": [
    {
     "name": "stdout",
     "output_type": "stream",
     "text": [
      "1\n",
      "2\n",
      "3\n",
      "4\n",
      "5\n",
      "6\n",
      "7\n",
      "8\n",
      "9\n"
     ]
    }
   ],
   "source": [
    "# loop x number of times\n",
    "for idx in range(1,10):\n",
    "    print(idx)"
   ]
  },
  {
   "cell_type": "code",
   "execution_count": null,
   "id": "fce2e3f2",
   "metadata": {},
   "outputs": [],
   "source": []
  },
  {
   "cell_type": "code",
   "execution_count": null,
   "id": "84951233",
   "metadata": {},
   "outputs": [],
   "source": []
  },
  {
   "cell_type": "code",
   "execution_count": null,
   "id": "95ba4ffa",
   "metadata": {},
   "outputs": [],
   "source": []
  },
  {
   "cell_type": "code",
   "execution_count": null,
   "id": "1b00855e",
   "metadata": {},
   "outputs": [],
   "source": []
  },
  {
   "cell_type": "code",
   "execution_count": null,
   "id": "bcc5a04a",
   "metadata": {},
   "outputs": [],
   "source": []
  },
  {
   "cell_type": "code",
   "execution_count": null,
   "id": "c5cd9b50",
   "metadata": {},
   "outputs": [],
   "source": []
  },
  {
   "cell_type": "code",
   "execution_count": null,
   "id": "8dc62519",
   "metadata": {},
   "outputs": [],
   "source": []
  },
  {
   "cell_type": "code",
   "execution_count": null,
   "id": "16c2fd9f",
   "metadata": {},
   "outputs": [],
   "source": []
  }
 ],
 "metadata": {
  "kernelspec": {
   "display_name": "Python 3 (ipykernel)",
   "language": "python",
   "name": "python3"
  },
  "language_info": {
   "codemirror_mode": {
    "name": "ipython",
    "version": 3
   },
   "file_extension": ".py",
   "mimetype": "text/x-python",
   "name": "python",
   "nbconvert_exporter": "python",
   "pygments_lexer": "ipython3",
   "version": "3.11.4"
  }
 },
 "nbformat": 4,
 "nbformat_minor": 5
}
